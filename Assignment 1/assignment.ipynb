{
 "cells": [
  {
   "cell_type": "code",
   "execution_count": 6,
   "metadata": {},
   "outputs": [
    {
     "name": "stdout",
     "output_type": "stream",
     "text": [
      "Your Grade:- A\n"
     ]
    }
   ],
   "source": [
    "# Q1\n",
    "grade = int(input('Enter your marks:- '))\n",
    "\n",
    "\n",
    "if grade > 90:\n",
    "    print(f'Your Grade:- A')\n",
    "elif grade > 80 and grade <=90:\n",
    "    print(f'Your Grade:- B')\n",
    "elif grade >= 60 and grade <=80:\n",
    "    print(f'Your Grade:- C')\n",
    "elif grade < 60:\n",
    "    print(f'Your Grade:- D')"
   ]
  },
  {
   "cell_type": "code",
   "execution_count": null,
   "metadata": {},
   "outputs": [],
   "source": [
    "cost = int(input('Enter the cost price of your bike in Rs:- '))\n",
    "\n",
    "if cost > 100000:\n",
    "    print(f'You should pay:- 15% of tax')\n",
    "elif cost > 50000 and cost <= 100000:\n",
    "    print(f'You should pay:- 10% of tax')\n",
    "elif cost <= 50000:\n",
    "    print(f'You should pay:- 5% of tax')"
   ]
  },
  {
   "cell_type": "code",
   "execution_count": 14,
   "metadata": {},
   "outputs": [
    {
     "name": "stdout",
     "output_type": "stream",
     "text": [
      "Red Fort is the monument in delhi\n"
     ]
    }
   ],
   "source": [
    "city = input('Enter a city:- ').lower()\n",
    "\n",
    "if city == 'delhi':\n",
    "    print('Red Fort is the monument in delhi')\n",
    "elif city == 'agra':\n",
    "    print('Taj Mahal is the monument in Agra')\n",
    "elif city == 'jaipur':\n",
    "    print('Jai Nahal is the monument in jaipur')"
   ]
  },
  {
   "cell_type": "code",
   "execution_count": 21,
   "metadata": {},
   "outputs": [
    {
     "name": "stdout",
     "output_type": "stream",
     "text": [
      "count:- 3\n"
     ]
    }
   ],
   "source": [
    "count = 0\n",
    "for i in range(1,11):\n",
    "    if i % 3 == 0:\n",
    "        count += 1\n",
    "        \n",
    "print(f'count:- {count}')"
   ]
  },
  {
   "cell_type": "markdown",
   "metadata": {},
   "source": [
    "The while loop in Python is used to repeatedly execute a block of code as long as a given condition is true. where condition is a boolean expression that determines whether the loop will continue to execute. The code inside the loop will be executed as long as condition is True. Once condition becomes False, the loop will exit and the program will continue with the code after the loop. The basic structure of a while loop in Python is as follows:\n",
    "count = 1\n",
    "while count <= 5:\n",
    "    print(count)\n",
    "    count += 1\n"
   ]
  },
  {
   "cell_type": "code",
   "execution_count": null,
   "metadata": {},
   "outputs": [],
   "source": []
  }
 ],
 "metadata": {
  "kernelspec": {
   "display_name": "Python 3.9.13 ('testenv')",
   "language": "python",
   "name": "python3"
  },
  "language_info": {
   "codemirror_mode": {
    "name": "ipython",
    "version": 3
   },
   "file_extension": ".py",
   "mimetype": "text/x-python",
   "name": "python",
   "nbconvert_exporter": "python",
   "pygments_lexer": "ipython3",
   "version": "3.9.13"
  },
  "orig_nbformat": 4,
  "vscode": {
   "interpreter": {
    "hash": "d14b235c55f22a43bb02d0fb731528381b733f4571bf5c04872e56ed232e09e6"
   }
  }
 },
 "nbformat": 4,
 "nbformat_minor": 2
}
