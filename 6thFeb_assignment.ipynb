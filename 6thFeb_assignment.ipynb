{
 "cells": [
  {
   "cell_type": "code",
   "execution_count": 44,
   "metadata": {},
   "outputs": [],
   "source": [
    "list1 = [1,2,3,4, [44,55,66, True], False, (34,56,78,89,34), {1,2,3,3,2,1}, {1:34, \"key2\": [55, 67, 78, 89], 4: (45,\n",
    "22, 61, 34)}, [56, 'data science'], 'Machine Learning']"
   ]
  },
  {
   "cell_type": "code",
   "execution_count": 73,
   "metadata": {},
   "outputs": [
    {
     "name": "stdout",
     "output_type": "stream",
     "text": [
      "2315262738624675840\n"
     ]
    }
   ],
   "source": [
    "# Q1 \n",
    "def unpack_list(lst):\n",
    "    single_list = []\n",
    "    for item in lst:\n",
    "        if type(item) in (list, tuple, dict, set):\n",
    "            single_list.extend(unpack_list(item))\n",
    "        else:\n",
    "            single_list.append(item)\n",
    "    \n",
    "    return single_list\n",
    "\n",
    "def get_product(lst):\n",
    "    new_list = unpack_list(lst)\n",
    "    product = 1\n",
    "    for item in new_list:\n",
    "        if type(item) in (int, float):\n",
    "            product *= item\n",
    "            \n",
    "    return product\n",
    "\n",
    "list1 = [1,2,3,4, [44,55,66, True], False, (34,56,78,89,34), {1,2,3,3,2,1}, {1:34, \"key2\": [55, 67, 78, 89], 4: (45, 22, 61, 34)}, [56, 'data science'], 'Machine Learning']\n",
    "\n",
    "print(get_product(list1))\n"
   ]
  },
  {
   "cell_type": "code",
   "execution_count": 76,
   "metadata": {},
   "outputs": [],
   "source": [
    "# Q2\n",
    "\n",
    "# To print reciprocal string\n",
    "def reciprocalString(word):\n",
    "    ch = ''\n",
    "    word = word.lower()  \n",
    "    for i in range(len(word)):\n",
    " \n",
    "        # converting lowercase character\n",
    "        # To reciprocal character\n",
    "        # display the character\n",
    "        if word[i].islower():\n",
    "            ch = chr(ord('z') -\n",
    "                     ord(word[i]) + ord('a'))\n",
    "            print(ch, end = \"\")\n",
    "            \n",
    "        elif word[i] == ' ':\n",
    "            ch = '$'\n",
    "            print(ch, end=\"\")\n",
    "        else:\n",
    "            print(word[i], end = \"\")\n",
    "            \n",
    "\n",
    "    "
   ]
  },
  {
   "cell_type": "code",
   "execution_count": 78,
   "metadata": {},
   "outputs": [
    {
     "name": "stdout",
     "output_type": "stream",
     "text": [
      "r$dzmg$gl$yvxznv$z$wzgz$hxrvmgrhg"
     ]
    }
   ],
   "source": [
    "reciprocalString('I want to became a Data Scientist')"
   ]
  },
  {
   "cell_type": "code",
   "execution_count": null,
   "metadata": {},
   "outputs": [],
   "source": []
  }
 ],
 "metadata": {
  "kernelspec": {
   "display_name": "Python 3.9.13 ('testenv')",
   "language": "python",
   "name": "python3"
  },
  "language_info": {
   "codemirror_mode": {
    "name": "ipython",
    "version": 3
   },
   "file_extension": ".py",
   "mimetype": "text/x-python",
   "name": "python",
   "nbconvert_exporter": "python",
   "pygments_lexer": "ipython3",
   "version": "3.9.13"
  },
  "orig_nbformat": 4,
  "vscode": {
   "interpreter": {
    "hash": "d14b235c55f22a43bb02d0fb731528381b733f4571bf5c04872e56ed232e09e6"
   }
  }
 },
 "nbformat": 4,
 "nbformat_minor": 2
}
